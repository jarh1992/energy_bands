{
 "cells": [
  {
   "cell_type": "code",
   "id": "initial_id",
   "metadata": {
    "collapsed": true,
    "ExecuteTime": {
     "end_time": "2024-11-15T04:02:40.145116Z",
     "start_time": "2024-11-15T04:02:39.959815Z"
    }
   },
   "source": [
    "from app.views import *\n",
    "import numpy as np"
   ],
   "outputs": [],
   "execution_count": 1
  },
  {
   "metadata": {
    "ExecuteTime": {
     "end_time": "2024-11-15T04:04:37.953855Z",
     "start_time": "2024-11-15T04:04:37.949227Z"
    }
   },
   "cell_type": "code",
   "source": [
    "hem = GaAs['hem']\n",
    "eem = GaAs['eem']\n",
    "T = 300\n",
    "fermi_energy_level(hem, eem, passler(T), T)"
   ],
   "id": "78f390532fe3a996",
   "outputs": [
    {
     "data": {
      "text/plain": [
       "np.float64(0.7502365149255356)"
      ]
     },
     "execution_count": 4,
     "metadata": {},
     "output_type": "execute_result"
    }
   ],
   "execution_count": 4
  },
  {
   "metadata": {
    "ExecuteTime": {
     "end_time": "2024-11-15T03:36:57.971803Z",
     "start_time": "2024-11-15T03:36:57.966226Z"
    }
   },
   "cell_type": "code",
   "source": [
    "# masa_efectiva_elect = GAAS['eem']\n",
    "masa_efectiva_elect = GaAs['eem']\n",
    "effective_density_states(masa_efectiva_elect, 300)"
   ],
   "id": "ada14955d4d1ba5c",
   "outputs": [
    {
     "name": "stdout",
     "output_type": "stream",
     "text": [
      "masa efectiva electron 3.809305449357018e-17\n"
     ]
    },
    {
     "data": {
      "text/plain": [
       "np.float64(4.351838839324464e+17)"
      ]
     },
     "execution_count": 2,
     "metadata": {},
     "output_type": "execute_result"
    }
   ],
   "execution_count": 2
  },
  {
   "metadata": {
    "ExecuteTime": {
     "end_time": "2024-11-14T22:45:42.978460Z",
     "start_time": "2024-11-14T22:45:42.971588Z"
    }
   },
   "cell_type": "code",
   "source": "0.510998e6 / (29979245800)**2",
   "id": "20e3fd9254c87ac6",
   "outputs": [
    {
     "data": {
      "text/plain": [
       "5.685619533432869e-16"
      ]
     },
     "execution_count": 6,
     "metadata": {},
     "output_type": "execute_result"
    }
   ],
   "execution_count": 6
  },
  {
   "metadata": {
    "ExecuteTime": {
     "end_time": "2024-11-14T22:40:52.204012Z",
     "start_time": "2024-11-14T22:40:52.201766Z"
    }
   },
   "cell_type": "code",
   "source": "",
   "id": "41fc6650d233bf9d",
   "outputs": [],
   "execution_count": null
  },
  {
   "metadata": {},
   "cell_type": "code",
   "outputs": [],
   "execution_count": null,
   "source": "",
   "id": "8b8e8d6e9457081a"
  }
 ],
 "metadata": {
  "kernelspec": {
   "display_name": "Python 3",
   "language": "python",
   "name": "python3"
  },
  "language_info": {
   "codemirror_mode": {
    "name": "ipython",
    "version": 2
   },
   "file_extension": ".py",
   "mimetype": "text/x-python",
   "name": "python",
   "nbconvert_exporter": "python",
   "pygments_lexer": "ipython2",
   "version": "2.7.6"
  }
 },
 "nbformat": 4,
 "nbformat_minor": 5
}
